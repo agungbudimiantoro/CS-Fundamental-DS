{
 "cells": [
  {
   "cell_type": "markdown",
   "metadata": {},
   "source": [
    "Clone repository yang telah disiapkan oleh Tim Narasio.\n",
    "github clone HTTPS : https://github.com/muklisai/CS-Fundamental-DS.git\n"
   ]
  },
  {
   "cell_type": "code",
   "execution_count": null,
   "metadata": {},
   "outputs": [],
   "source": [
    " git clone https://github.com/muklisai/CS-Fundamental-DS.git"
   ]
  }
 ],
 "metadata": {
  "language_info": {
   "name": "python"
  },
  "orig_nbformat": 4
 },
 "nbformat": 4,
 "nbformat_minor": 2
}
